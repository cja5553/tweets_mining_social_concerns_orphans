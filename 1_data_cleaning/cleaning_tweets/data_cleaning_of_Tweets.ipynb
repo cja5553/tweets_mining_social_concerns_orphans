{
 "cells": [
  {
   "cell_type": "code",
   "execution_count": 2,
   "id": "311b4264",
   "metadata": {},
   "outputs": [
    {
     "data": {
      "application/vnd.jupyter.widget-view+json": {
       "model_id": "82e4cc9fe50a463f80a089a8bdc9b93f",
       "version_major": 2,
       "version_minor": 0
      },
      "text/plain": [
       "  0%|          | 0/33 [00:00<?, ?it/s]"
      ]
     },
     "metadata": {},
     "output_type": "display_data"
    },
    {
     "name": "stdout",
     "output_type": "stream",
     "text": [
      "Number of Tweets with mentions of words affiliated with Orphans BEFORE FILTERING are 540\n"
     ]
    }
   ],
   "source": [
    "# import necessary libraries\n",
    "import pandas as pd\n",
    "import os\n",
    "import glob\n",
    "import tqdm.notebook as tq\n",
    "\n",
    "# Reading the data\n",
    "ZIPFILES='*.CSV'\n",
    "filelist = glob.glob(ZIPFILES)\n",
    "df = pd.DataFrame()\n",
    "for gzfile in tq.tqdm(filelist):\n",
    "    if len(df)==0:\n",
    "        df=pd.read_csv(gzfile)\n",
    "        df[\"time\"]=(str(gzfile))[:10]\n",
    "    else:\n",
    "        data = pd.read_csv(gzfile)\n",
    "        data[\"time\"]=(str(gzfile))[:10]\n",
    "        df=pd.concat([data,df])  \n",
    "        \n",
    "length=len(df)\n",
    "df['text']=df['text'].str.lower() #lowering-casing all Tweets. We will remove the neccessary punctuation later during the text analysis because we may want to consider preserving them. \n",
    "\n",
    "# using regex to extract Tweets related to Orphans and Orphanages\n",
    "df_orphan=(df[df.text.str.contains(\"^.*orphan.*$\", regex= True, na=False)]).set_index([\"status_id\"]) \n",
    "print(\"Number of Tweets with mentions of words affiliated with Orphans BEFORE FILTERING are\", len(df_orphan))"
   ]
  },
  {
   "cell_type": "code",
   "execution_count": 3,
   "id": "143f1f2c",
   "metadata": {},
   "outputs": [
    {
     "name": "stdout",
     "output_type": "stream",
     "text": [
      "Original length of COVID-19 tweets is  14607013\n",
      "Number of Tweets with mentions of words affiliated with Orphans are  415\n"
     ]
    }
   ],
   "source": [
    "# Removing Tweets that are irrelevant to children Orphanes/orphanages, but co-occur with the words Orphans\n",
    "df_orphan=df_orphan[~df_orphan.text.str.contains(\"well.{0,1}\", regex= True, na=False)]\n",
    "df_orphan=df_orphan[~df_orphan.text.str.contains(\"pet.{0,1}\", regex= True, na=False)]\n",
    "df_orphan=df_orphan[~df_orphan.text.str.contains(\"dog.{0,1}\", regex= True, na=False)]\n",
    "df_orphan=df_orphan[~df_orphan.text.str.contains(\"cat.{0,1}\", regex= True, na=False)]\n",
    "df_orphan=df_orphan[~df_orphan.text.str.contains(\"animal.{0,1}\", regex= True, na=False)]\n",
    "df_orphan=df_orphan[~df_orphan.text.str.contains(\"drug.{0,1}\", regex= True, na=False)]\n",
    "df_orphan=df_orphan[~df_orphan.text.str.contains(\"wildlife.{0,1}\", regex= True, na=False)]\n",
    "df_orphan['time'] = pd.to_datetime(df_orphan['time'], format=\"%Y-%m-%d\") # converting time to datetime\n",
    "\n",
    "print(\"Original length of COVID-19 tweets is \",length)\n",
    "print(\"Number of Tweets with mentions of words affiliated with Orphans are \", len(df_orphan))\n",
    "\n",
    "# Saving the file \n",
    "df_orphan.to_csv(\"Orphan_tweets_COVID-19.csv\")"
   ]
  },
  {
   "cell_type": "code",
   "execution_count": null,
   "id": "ebb72ad0",
   "metadata": {},
   "outputs": [],
   "source": []
  }
 ],
 "metadata": {
  "kernelspec": {
   "display_name": "Python 3 (ipykernel)",
   "language": "python",
   "name": "python3"
  },
  "language_info": {
   "codemirror_mode": {
    "name": "ipython",
    "version": 3
   },
   "file_extension": ".py",
   "mimetype": "text/x-python",
   "name": "python",
   "nbconvert_exporter": "python",
   "pygments_lexer": "ipython3",
   "version": "3.9.12"
  }
 },
 "nbformat": 4,
 "nbformat_minor": 5
}
