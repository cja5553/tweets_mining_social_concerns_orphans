{
  "cells": [
    {
      "cell_type": "markdown",
      "source": [
        "# Downloading and importing the required libraries"
      ],
      "metadata": {
        "id": "WTZUfhzDmpT3"
      },
      "id": "WTZUfhzDmpT3"
    },
    {
      "cell_type": "code",
      "execution_count": null,
      "id": "94fc3f5a",
      "metadata": {
        "id": "94fc3f5a",
        "outputId": "b265d38b-1fd5-4d82-b2d8-34268c3ef1d7",
        "colab": {
          "base_uri": "https://localhost:8080/",
          "height": 839
        }
      },
      "outputs": [
        {
          "output_type": "stream",
          "name": "stdout",
          "text": [
            "Drive already mounted at /content/drive; to attempt to forcibly remount, call drive.mount(\"/content/drive\", force_remount=True).\n",
            "/content/drive/My Drive/Research/Philantrophy Research\n",
            "Found existing installation: numpy 1.24.1\n",
            "Uninstalling numpy-1.24.1:\n",
            "  Would remove:\n",
            "    /usr/local/bin/f2py\n",
            "    /usr/local/bin/f2py3\n",
            "    /usr/local/bin/f2py3.8\n",
            "    /usr/local/lib/python3.8/dist-packages/numpy-1.24.1.dist-info/*\n",
            "    /usr/local/lib/python3.8/dist-packages/numpy.libs/libgfortran-040039e1.so.5.0.0\n",
            "    /usr/local/lib/python3.8/dist-packages/numpy.libs/libopenblas64_p-r0-15028c96.3.21.so\n",
            "    /usr/local/lib/python3.8/dist-packages/numpy.libs/libquadmath-96973f99.so.0.0.0\n",
            "    /usr/local/lib/python3.8/dist-packages/numpy/*\n",
            "Proceed (y/n)? y\n",
            "  Successfully uninstalled numpy-1.24.1\n",
            "Looking in indexes: https://pypi.org/simple, https://us-python.pkg.dev/colab-wheels/public/simple/\n",
            "Collecting numpy\n",
            "  Using cached numpy-1.24.1-cp38-cp38-manylinux_2_17_x86_64.manylinux2014_x86_64.whl (17.3 MB)\n",
            "Installing collected packages: numpy\n",
            "\u001b[31mERROR: pip's dependency resolver does not currently take into account all the packages that are installed. This behaviour is the source of the following dependency conflicts.\n",
            "scipy 1.7.3 requires numpy<1.23.0,>=1.16.5, but you have numpy 1.24.1 which is incompatible.\n",
            "numba 0.56.4 requires numpy<1.24,>=1.18, but you have numpy 1.24.1 which is incompatible.\u001b[0m\n",
            "Successfully installed numpy-1.24.1\n"
          ]
        },
        {
          "output_type": "display_data",
          "data": {
            "application/vnd.colab-display-data+json": {
              "pip_warning": {
                "packages": [
                  "numpy"
                ]
              }
            }
          },
          "metadata": {}
        },
        {
          "output_type": "stream",
          "name": "stdout",
          "text": [
            "/usr/local/lib/python3.8/dist-packages/torch/cuda/__init__.py:497: UserWarning: Can't initialize NVML\n",
            "  warnings.warn(\"Can't initialize NVML\")\n",
            "2022-12-30 02:18:21.807340: E tensorflow/stream_executor/cuda/cuda_driver.cc:271] failed call to cuInit: CUDA_ERROR_NO_DEVICE: no CUDA-capable device is detected\n",
            "\u001b[K     |████████████████████████████████| 42.8 MB 1.3 MB/s \n",
            "\u001b[?25h\u001b[38;5;2m✔ Download and installation successful\u001b[0m\n",
            "You can now load the package via spacy.load('en_core_web_md')\n"
          ]
        },
        {
          "output_type": "stream",
          "name": "stderr",
          "text": [
            "/usr/local/lib/python3.8/dist-packages/scipy/__init__.py:146: UserWarning: A NumPy version >=1.16.5 and <1.23.0 is required for this version of SciPy (detected version 1.24.1\n",
            "  warnings.warn(f\"A NumPy version >={np_minversion} and <{np_maxversion}\"\n",
            "/usr/local/lib/python3.8/dist-packages/torch/cuda/__init__.py:497: UserWarning: Can't initialize NVML\n",
            "  warnings.warn(\"Can't initialize NVML\")\n",
            "/usr/local/lib/python3.8/dist-packages/past/types/oldstr.py:5: DeprecationWarning: Using or importing the ABCs from 'collections' instead of from 'collections.abc' is deprecated since Python 3.3, and in 3.10 it will stop working\n",
            "  from collections import Iterable\n",
            "/usr/local/lib/python3.8/dist-packages/past/builtins/misc.py:4: DeprecationWarning: Using or importing the ABCs from 'collections' instead of from 'collections.abc' is deprecated since Python 3.3, and in 3.10 it will stop working\n",
            "  from collections import Mapping\n",
            "/usr/local/lib/python3.8/dist-packages/scipy/sparse/sparsetools.py:21: DeprecationWarning: `scipy.sparse.sparsetools` is deprecated!\n",
            "scipy.sparse.sparsetools is a private module for scipy.sparse, and should not be used.\n",
            "  _deprecated()\n"
          ]
        }
      ],
      "source": [
        "# mounting colab file to drive\n",
        "\n",
        "from google.colab import drive\n",
        "from tqdm import tqdm\n",
        "drive.mount(\"/content/drive\")\n",
        "%cd '/content/drive/My Drive/Research/Philantrophy Research'\n",
        "\n",
        "# importing and downloading the required files\n",
        "\n",
        "import pandas as pd\n",
        "!pip install pyLDAvis -qq\n",
        "!pip install -qq -U gensim\n",
        "!pip install spacy -qq\n",
        "!pip install matplotlib -qq\n",
        "!pip install seaborn -qq\n",
        "!python -m spacy download en_core_web_md -qq\n",
        "\n",
        "import pandas as pd\n",
        "import numpy as np\n",
        "import matplotlib.pyplot as plt\n",
        "import seaborn as sns\n",
        "sns.set()\n",
        "import spacy\n",
        "import pyLDAvis.gensim_models\n",
        "import en_core_web_md\n",
        "from gensim.corpora.dictionary import Dictionary\n",
        "from gensim.models import LdaMulticore\n",
        "from gensim.models import CoherenceModel"
      ]
    },
    {
      "cell_type": "markdown",
      "source": [
        "# Performing pre-processing"
      ],
      "metadata": {
        "id": "JU9IhlvllAHR"
      },
      "id": "JU9IhlvllAHR"
    },
    {
      "cell_type": "code",
      "source": [
        "# reading the Tweets\n",
        "df = pd.read_csv(\"Orphan_tweets_COVID-19.csv\")\n",
        "# Removing punctuation\n",
        "df[\"text\"] = df['text'].str.replace('[^A-Za-z ]','',regex=True) ## note: All Tweets have already been lower-cased during the cleaning process\n",
        "\n",
        "# removing stopwords\n",
        "import nltk\n",
        "nltk.download('stopwords')\n",
        "from nltk.corpus import stopwords\n",
        "stop = stopwords.words('english')\n",
        "import re\n",
        "df[\"text\"] = df[\"text\"].apply(lambda x: ' '.join([word for word in x.split() if word not in (stop)]))\n",
        "df[\"text\"]=df['text'].str.replace(r'\\b\\w{1,3}\\b', '', regex=True)\n",
        "\n",
        "# removing unmeaningful tags\n",
        "\n",
        "def token_creation(df):\n",
        "  nlp = en_core_web_md.load() # Tags I want to remove from the text\n",
        "  removal= ['ADV','PRON','CCONJ','PUNCT','PART','DET','ADP','SPACE', 'NUM', 'SYM']\n",
        "  tokens = []\n",
        "  for summary in tqdm(nlp.pipe(df[\"text\"])):\n",
        "    proj_tok = [token.lemma_.lower() for token in summary if token.pos_ not in removal and not token.is_stop and token.is_alpha and len(token)!=1] # Performing Lemmatization here\n",
        "    proj_tok=[re.sub(r\"\\bcoronaviru\\b\", \"coronavirus\", s) for s in proj_tok] #Changing coronaviru to coronavirus (some were spelt as coronaviru after removing punctuation)\n",
        "    tokens.append(proj_tok)\n",
        "  return(tokens)\n",
        "\n",
        "# Filtering extreme tokens \n",
        "def dictionary_filtering(df):\n",
        "  dictionary = Dictionary(df['tokens'])\n",
        "  dictionary.filter_extremes(no_below=5, no_above=0.5, keep_n=1000)\n",
        "  return(dictionary)"
      ],
      "metadata": {
        "colab": {
          "base_uri": "https://localhost:8080/"
        },
        "id": "RmDe47Uhapfm",
        "outputId": "29579876-d70c-4d4a-c0b4-df6923869781"
      },
      "id": "RmDe47Uhapfm",
      "execution_count": null,
      "outputs": [
        {
          "output_type": "stream",
          "name": "stderr",
          "text": [
            "[nltk_data] Downloading package stopwords to /root/nltk_data...\n",
            "[nltk_data]   Unzipping corpora/stopwords.zip.\n"
          ]
        }
      ]
    },
    {
      "cell_type": "markdown",
      "source": [
        "# creating a corpus using bag-of-words (BOW) representation"
      ],
      "metadata": {
        "id": "X_YlFRiUmZFS"
      },
      "id": "X_YlFRiUmZFS"
    },
    {
      "cell_type": "code",
      "source": [
        "# performing corpus filtering\n",
        "def corpus_filtering(dictionary):\n",
        "  corpus = [dictionary.doc2bow(doc) for doc in df['tokens']]\n",
        "  return(corpus)\n"
      ],
      "metadata": {
        "id": "qo2a40rga7EC"
      },
      "id": "qo2a40rga7EC",
      "execution_count": null,
      "outputs": []
    },
    {
      "cell_type": "markdown",
      "source": [
        "# Plotting the coherence score the find the appropriate amount of topics to be specified "
      ],
      "metadata": {
        "id": "dTfOx7LHmdBp"
      },
      "id": "dTfOx7LHmdBp"
    },
    {
      "cell_type": "code",
      "source": [
        "# converted tokens to corpuses\n",
        "# setting the model of up to 10 topics \n",
        "def lda_10_model(corpus,dictionary):\n",
        "  lda_model = LdaMulticore(corpus=corpus, id2word=dictionary, iterations=50, num_topics=10, workers = 4, passes=10)\n",
        "  return(lda_model)\n",
        "\n",
        "\n",
        "# obtaining the coherence scores and the coherence plots from topics 1 to 10. \n",
        "def plot_coherence_score_1(corpus,dictionary,lda_model):\n",
        "  topics = []\n",
        "  score = []\n",
        "  for i in tqdm(range(1,10,1)):\n",
        "    lda_model = LdaMulticore(corpus=corpus, id2word=dictionary, iterations=10, num_topics=i, workers = 4, passes=10, random_state=100)\n",
        "    cm = CoherenceModel(model=lda_model, corpus=corpus, dictionary=dictionary, coherence='u_mass')\n",
        "    topics.append(i)\n",
        "    score.append(cm.get_coherence())\n",
        "  _=plt.plot(topics, score)\n",
        "  _=plt.xlabel('Number of Topics')\n",
        "  _=plt.ylabel('Coherence Score')\n",
        "  plt.show()\n",
        "def plot_coherence_score_2(corpus,dictionary,lda_model): \n",
        "  topics = []\n",
        "  score = []\n",
        "  for i in tqdm(range(1,10,1)):\n",
        "    lda_model = LdaMulticore(corpus=corpus, id2word=dictionary, iterations=10, num_topics=i, workers = 4, passes=10, random_state=100)\n",
        "    cm = CoherenceModel(model=lda_model, texts = df['tokens'], corpus=corpus, dictionary=dictionary, coherence='c_v')\n",
        "    topics.append(i)\n",
        "    score.append(cm.get_coherence())\n",
        "  _=plt.plot(topics, score)\n",
        "  _=plt.xlabel('Number of Topics')\n",
        "  _=plt.ylabel('Coherence Score')\n",
        "  plt.show()\n",
        "\n",
        "# executing the functions above. \n",
        "tokens=token_creation(df)\n",
        "df[\"tokens\"]=tokens\n",
        "dictionary=dictionary_filtering(df)\n",
        "corpus=corpus_filtering(dictionary)\n",
        "lda_model=lda_10_model(corpus,dictionary)\n",
        "plot_coherence_score_1(corpus,dictionary,lda_model)\n",
        "plot_coherence_score_2(corpus,dictionary,lda_model)\n"
      ],
      "metadata": {
        "colab": {
          "base_uri": "https://localhost:8080/",
          "height": 610
        },
        "id": "3vuHoQPKbyxd",
        "outputId": "6c673b98-7011-43c7-8a70-7d99ad9779a9"
      },
      "id": "3vuHoQPKbyxd",
      "execution_count": null,
      "outputs": [
        {
          "output_type": "stream",
          "name": "stderr",
          "text": [
            "415it [00:02, 151.05it/s]\n",
            "100%|██████████| 9/9 [00:15<00:00,  1.75s/it]\n"
          ]
        },
        {
          "output_type": "display_data",
          "data": {
            "text/plain": [
              "<Figure size 432x288 with 1 Axes>"
            ],
            "image/png": "[encoded data removed]"
          },
          "metadata": {}
        },
        {
          "output_type": "stream",
          "name": "stderr",
          "text": [
            "100%|██████████| 9/9 [00:26<00:00,  2.97s/it]\n"
          ]
        },
        {
          "output_type": "display_data",
          "data": {
            "text/plain": [
              "<Figure size 432x288 with 1 Axes>"
            ],
            "image/png": "[encoded data removed]"
          },
          "metadata": {}
        }
      ]
    },
    {
      "cell_type": "markdown",
      "source": [
        "# Plotting with LDAvis"
      ],
      "metadata": {
        "id": "oICecgt_miZQ"
      },
      "id": "oICecgt_miZQ"
    },
    {
      "cell_type": "code",
      "source": [
        "# plotting the inter-topic distance plot with 5 topics\n",
        "lda_model = LdaMulticore(corpus=corpus, id2word=dictionary, iterations=100, num_topics=5, workers = 4, passes=100)\n",
        "lda_display = pyLDAvis.gensim_models.prepare(lda_model, corpus, dictionary)\n",
        "pyLDAvis.display(lda_display)\n",
        "pyLDAvis.save_html(lda_display, 'lda.html')"
      ],
      "metadata": {
        "id": "ZnlsDpcwt996"
      },
      "id": "ZnlsDpcwt996",
      "execution_count": null,
      "outputs": []
    },
    {
      "cell_type": "markdown",
      "source": [
        "References: \n",
        "\n",
        "Ghanoum, T.: Topic modelling in python with spacy and gensim. *Towards Data Science*.  \n",
        "URL: https://towardsdatascience.com/topic-modelling-in-python-with-spacy-and-gensim-dc8f7748bdbf "
      ],
      "metadata": {
        "id": "lIyEaKxWl793"
      },
      "id": "lIyEaKxWl793"
    }
  ],
  "metadata": {
    "kernelspec": {
      "display_name": "Python 3 (ipykernel)",
      "language": "python",
      "name": "python3"
    },
    "language_info": {
      "codemirror_mode": {
        "name": "ipython",
        "version": 3
      },
      "file_extension": ".py",
      "mimetype": "text/x-python",
      "name": "python",
      "nbconvert_exporter": "python",
      "pygments_lexer": "ipython3",
      "version": "3.9.12"
    },
    "colab": {
      "provenance": []
    }
  },
  "nbformat": 4,
  "nbformat_minor": 5
}